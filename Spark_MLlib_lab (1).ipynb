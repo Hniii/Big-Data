{
  "nbformat": 4,
  "nbformat_minor": 0,
  "metadata": {
    "colab": {
      "provenance": []
    },
    "kernelspec": {
      "name": "python3",
      "display_name": "Python 3"
    },
    "language_info": {
      "name": "python"
    }
  },
  "cells": [
    {
      "cell_type": "markdown",
      "source": [
        "Tp 4: : Spark MLlib\n"
      ],
      "metadata": {
        "id": "wBAMLhtDAFKz"
      }
    },
    {
      "cell_type": "code",
      "execution_count": 2,
      "metadata": {
        "colab": {
          "base_uri": "https://localhost:8080/"
        },
        "id": "L8-mIk5t_9EW",
        "outputId": "3c36063f-21ee-49b4-b8c6-585da87715e1"
      },
      "outputs": [
        {
          "output_type": "stream",
          "name": "stdout",
          "text": [
            "Collecting pyspark\n",
            "  Downloading pyspark-3.5.0.tar.gz (316.9 MB)\n",
            "\u001b[2K     \u001b[90m━━━━━━━━━━━━━━━━━━━━━━━━━━━━━━━━━━━━━━━━\u001b[0m \u001b[32m316.9/316.9 MB\u001b[0m \u001b[31m4.2 MB/s\u001b[0m eta \u001b[36m0:00:00\u001b[0m\n",
            "\u001b[?25h  Preparing metadata (setup.py) ... \u001b[?25l\u001b[?25hdone\n",
            "Requirement already satisfied: py4j==0.10.9.7 in /usr/local/lib/python3.10/dist-packages (from pyspark) (0.10.9.7)\n",
            "Building wheels for collected packages: pyspark\n",
            "  Building wheel for pyspark (setup.py) ... \u001b[?25l\u001b[?25hdone\n",
            "  Created wheel for pyspark: filename=pyspark-3.5.0-py2.py3-none-any.whl size=317425344 sha256=ab7c4a3e913095dc39d7831c2c2e7ae9180bebef085aa0013ddbf6c4fd02d505\n",
            "  Stored in directory: /root/.cache/pip/wheels/41/4e/10/c2cf2467f71c678cfc8a6b9ac9241e5e44a01940da8fbb17fc\n",
            "Successfully built pyspark\n",
            "Installing collected packages: pyspark\n",
            "Successfully installed pyspark-3.5.0\n"
          ]
        }
      ],
      "source": [
        "! pip install pyspark"
      ]
    },
    {
      "cell_type": "code",
      "source": [
        "from pyspark.sql import SparkSession\n",
        "\n",
        "spark = SparkSession.builder.appName(\"tp4\").getOrCreate()\n",
        "\n",
        "DataFrame = spark.read.format(\"csv\")\\\n",
        ".option(\"header\", \"true\")\\\n",
        ".option(\"inferSchema\", \"true\")\\\n",
        ".load(\"/content/*.csv\")"
      ],
      "metadata": {
        "id": "H91Wk8wfAkT4"
      },
      "execution_count": 4,
      "outputs": []
    },
    {
      "cell_type": "markdown",
      "source": [
        "2/ Afficher le schéma du Dataframe obtenu"
      ],
      "metadata": {
        "id": "udyl_QYRBQ-A"
      }
    },
    {
      "cell_type": "code",
      "source": [
        "DataFrame.printSchema()\n",
        "#DataFrame.collect()"
      ],
      "metadata": {
        "colab": {
          "base_uri": "https://localhost:8080/"
        },
        "id": "NGRO4gnoBAXo",
        "outputId": "f225653d-7936-4d0d-d16e-aa43cf8bc020"
      },
      "execution_count": 5,
      "outputs": [
        {
          "output_type": "stream",
          "name": "stdout",
          "text": [
            "root\n",
            " |-- InvoiceNo: string (nullable = true)\n",
            " |-- StockCode: string (nullable = true)\n",
            " |-- Description: string (nullable = true)\n",
            " |-- Quantity: integer (nullable = true)\n",
            " |-- InvoiceDate: timestamp (nullable = true)\n",
            " |-- UnitPrice: double (nullable = true)\n",
            " |-- CustomerID: double (nullable = true)\n",
            " |-- Country: string (nullable = true)\n",
            "\n"
          ]
        }
      ]
    },
    {
      "cell_type": "markdown",
      "source": [
        "3/Remplir les valeurs manquantes (NaN) avec la valeur 0.\n",
        "\n",
        "4/ Ajouter une nouvelle colonne nommée \"day_of_week\". La valeur de la colonne est le jour de la semaine correspondant à la date de chaque ligne dans la colonne \"InvoiceDate\""
      ],
      "metadata": {
        "id": "97Dptf5CBYu0"
      }
    },
    {
      "cell_type": "code",
      "source": [
        "from pyspark.sql.functions import date_format, col\n",
        "PreparingData = DataFrame.na.fill(0).withColumn(\"day_of_week\", date_format(col(\"InvoiceDate\"), \"EEEE\"))"
      ],
      "metadata": {
        "id": "V2xh9EHjBDNY"
      },
      "execution_count": 6,
      "outputs": []
    },
    {
      "cell_type": "markdown",
      "source": [
        "5/ Diviser les données en un ensemble d'apprentissage et un ensemble de test. Effectuer\n",
        "la division en se basant sur l'attribut InvoiceDate : l'ensemble d'apprentissage contient\n",
        "les achats effectués avant 2010-12-13 et l'ensemble de test contient les achats effectués\n",
        "durant ou après 2010-12-13."
      ],
      "metadata": {
        "id": "KROmACKQBn2-"
      }
    },
    {
      "cell_type": "code",
      "source": [
        "apprentData = PreparingData.where(\"InvoiceDate < '2010-12-13'\")\n",
        "testData =  PreparingData.where(\"InvoiceDate >= '2010-12-13'\")\n",
        "\n",
        "print(apprentData.count())\n",
        "print(testData.count())"
      ],
      "metadata": {
        "colab": {
          "base_uri": "https://localhost:8080/"
        },
        "id": "6B9wQR9zBnYr",
        "outputId": "5b982e0a-5a84-42f7-fcb6-b0bed08910c6"
      },
      "execution_count": 7,
      "outputs": [
        {
          "output_type": "stream",
          "name": "stdout",
          "text": [
            "26732\n",
            "18676\n"
          ]
        }
      ]
    },
    {
      "cell_type": "markdown",
      "source": [
        "6/Créer un StringIndexer qui permet de transformer les jours de semaine présents dans\n",
        "la colonne day_of_week en valeurs numériques correspondantes."
      ],
      "metadata": {
        "id": "6528_ySfDkrE"
      }
    },
    {
      "cell_type": "code",
      "source": [
        "from pyspark.ml.feature import StringIndexer\n",
        "numeroter = StringIndexer().setInputCol(\"day_of_week\").setOutputCol(\"day_of_week_num\")"
      ],
      "metadata": {
        "id": "SNz_vmPlDnCs"
      },
      "execution_count": 8,
      "outputs": []
    },
    {
      "cell_type": "markdown",
      "source": [
        "7/En utilisant le StringIndexer, Spark peut par exemple représenter samedi par 6 et\n",
        "lundi par 1. Cependant, avec ce schéma de numérotation, nous indiquons\n",
        "implicitement que samedi est supérieur à lundi (par des valeurs numériques pures).\n",
        "Ceci est évidemment incorrect. Comment résoudre ce problème ?"
      ],
      "metadata": {
        "id": "3_z-NnSkFC-n"
      }
    },
    {
      "cell_type": "code",
      "source": [
        "from pyspark.ml.feature import OneHotEncoder\n",
        "encoder = OneHotEncoder().setInputCol(\"day_of_week_num\").setOutputCol(\"day_of_week_encoded\")"
      ],
      "metadata": {
        "id": "8UqReTXyFFDz"
      },
      "execution_count": 9,
      "outputs": []
    },
    {
      "cell_type": "markdown",
      "source": [
        "8/Créer un VectorAssembler contenant trois attributs : UnitPrice, Quantity, et\n",
        "day_of_week_encoded."
      ],
      "metadata": {
        "id": "cG8360AOFQrT"
      }
    },
    {
      "cell_type": "code",
      "source": [
        "from pyspark.ml.feature import VectorAssembler\n",
        "vectorAssembler = VectorAssembler().setInputCols([\"UnitPrice\", \"Quantity\", \"day_of_week_encoded\"]).setOutputCol(\"features\")"
      ],
      "metadata": {
        "id": "56bB9MslFSOf"
      },
      "execution_count": 10,
      "outputs": []
    },
    {
      "cell_type": "markdown",
      "source": [],
      "metadata": {
        "id": "xCQm4yZpAA4g"
      }
    },
    {
      "cell_type": "markdown",
      "source": [
        "9/Créer un pipeline configuré avec les résultats des étapes 6, 7 et 8"
      ],
      "metadata": {
        "id": "2URuQ_JtFx2T"
      }
    },
    {
      "cell_type": "code",
      "source": [
        "from pyspark.ml import Pipeline\n",
        "transformationPipeline = Pipeline()\\\n",
        ".setStages([numeroter, encoder, vectorAssembler])"
      ],
      "metadata": {
        "id": "kWXpsdP2F2hN"
      },
      "execution_count": 11,
      "outputs": []
    },
    {
      "cell_type": "markdown",
      "source": [
        "10)\tNotre StringIndexer doit savoir combien de valeurs uniques il y a à indexer, comment résoudre ce problème ?"
      ],
      "metadata": {
        "id": "horhCFmxGNvf"
      }
    },
    {
      "cell_type": "code",
      "source": [
        "AdaptedPipeline = transformationPipeline.fit(apprentData)"
      ],
      "metadata": {
        "id": "pGzzOhl9GOsT"
      },
      "execution_count": 12,
      "outputs": []
    },
    {
      "cell_type": "markdown",
      "source": [
        "11)\tTransformer les données de l’ensemble d’apprentissage en se basant sur les étapes (stages) du pipeline."
      ],
      "metadata": {
        "id": "gdZkOfawGq9G"
      }
    },
    {
      "cell_type": "code",
      "source": [
        "transforApprent = AdaptedPipeline.transform(apprentData)"
      ],
      "metadata": {
        "id": "YPZzWmk1Grwp"
      },
      "execution_count": 13,
      "outputs": []
    },
    {
      "cell_type": "markdown",
      "source": [
        "12)\tCréer une instance de KMeans, on supposse que le nombre de clusters est 20."
      ],
      "metadata": {
        "id": "0kBrJZogHG-4"
      }
    },
    {
      "cell_type": "code",
      "source": [
        "from pyspark.ml.clustering import KMeans\n",
        "kmeans = KMeans().setK(20)"
      ],
      "metadata": {
        "id": "H6w60zaTHJGo"
      },
      "execution_count": 14,
      "outputs": []
    },
    {
      "cell_type": "markdown",
      "source": [
        "13)\tLancer l’apprentissage de KMeans en se basant sur l’ensemble obtenu dans l’étape 11."
      ],
      "metadata": {
        "id": "GBnDizxnHRt-"
      }
    },
    {
      "cell_type": "code",
      "source": [
        "kmeansModel = kmeans.fit(transforApprent)"
      ],
      "metadata": {
        "id": "KMgvk7FAHT-c"
      },
      "execution_count": 15,
      "outputs": []
    },
    {
      "cell_type": "markdown",
      "source": [
        "14)\tEffectuer des prédictions sur l’ensemble de test."
      ],
      "metadata": {
        "id": "1ugQw07GHdOg"
      }
    },
    {
      "cell_type": "code",
      "source": [
        "transTest = AdaptedPipeline.transform(testData)\n",
        "predictions = kmeansModel.transform(transTest)"
      ],
      "metadata": {
        "id": "wRTYgxdJHffc"
      },
      "execution_count": 17,
      "outputs": []
    },
    {
      "cell_type": "markdown",
      "source": [
        "15)\tCalculer le coefficient de silhouette."
      ],
      "metadata": {
        "id": "EDuVjHP2H1Jn"
      }
    },
    {
      "cell_type": "code",
      "source": [
        "from pyspark.ml.evaluation import ClusteringEvaluator\n",
        "evaluation = ClusteringEvaluator()\n",
        "silhouette = evaluation.evaluate(predictions)"
      ],
      "metadata": {
        "id": "JrfhsCwsH2xa"
      },
      "execution_count": 18,
      "outputs": []
    }
  ]
}