{
  "nbformat": 4,
  "nbformat_minor": 0,
  "metadata": {
    "colab": {
      "provenance": [],
      "include_colab_link": true
    },
    "kernelspec": {
      "name": "python3",
      "display_name": "Python 3"
    },
    "language_info": {
      "name": "python"
    }
  },
  "cells": [
    {
      "cell_type": "markdown",
      "metadata": {
        "id": "view-in-github",
        "colab_type": "text"
      },
      "source": [
        "<a href=\"https://colab.research.google.com/github/Hniii/Big-Data/blob/main/Spark_Sql.ipynb\" target=\"_parent\"><img src=\"https://colab.research.google.com/assets/colab-badge.svg\" alt=\"Open In Colab\"/></a>"
      ]
    },
    {
      "cell_type": "code",
      "source": [
        "!pip install pyspark"
      ],
      "metadata": {
        "colab": {
          "base_uri": "https://localhost:8080/"
        },
        "id": "MTNhuS8l4g7H",
        "outputId": "1de74dc4-0f15-4ab4-81ef-cc0b766b2a79"
      },
      "execution_count": null,
      "outputs": [
        {
          "output_type": "stream",
          "name": "stdout",
          "text": [
            "Collecting pyspark\n",
            "  Downloading pyspark-3.5.0.tar.gz (316.9 MB)\n",
            "\u001b[2K     \u001b[90m━━━━━━━━━━━━━━━━━━━━━━━━━━━━━━━━━━━━━━━━\u001b[0m \u001b[32m316.9/316.9 MB\u001b[0m \u001b[31m2.7 MB/s\u001b[0m eta \u001b[36m0:00:00\u001b[0m\n",
            "\u001b[?25h  Preparing metadata (setup.py) ... \u001b[?25l\u001b[?25hdone\n",
            "Requirement already satisfied: py4j==0.10.9.7 in /usr/local/lib/python3.10/dist-packages (from pyspark) (0.10.9.7)\n",
            "Building wheels for collected packages: pyspark\n",
            "  Building wheel for pyspark (setup.py) ... \u001b[?25l\u001b[?25hdone\n",
            "  Created wheel for pyspark: filename=pyspark-3.5.0-py2.py3-none-any.whl size=317425344 sha256=4800006f383b41dfd5ebce02fd1893e0dec5a6dc412ec53b584e96b785dae9fb\n",
            "  Stored in directory: /root/.cache/pip/wheels/41/4e/10/c2cf2467f71c678cfc8a6b9ac9241e5e44a01940da8fbb17fc\n",
            "Successfully built pyspark\n",
            "Installing collected packages: pyspark\n",
            "Successfully installed pyspark-3.5.0\n"
          ]
        }
      ]
    },
    {
      "cell_type": "code",
      "source": [
        "from pyspark.sql import SparkSession\n",
        "from pyspark import SparkConf, SparkContext, SQLContext\n",
        "from pyspark.sql.functions import *\n",
        "from pyspark.sql import Row\n",
        "# create a SparkSession object\n",
        "spark = SparkSession.builder.appName(\"ReadCSV\").getOrCreate()\n",
        "\n",
        "# read CSV file into a DataFrame, assuming comma (,) as the delimiter\n",
        "df = spark.read.format(\"csv\") \\\n",
        "    .option(\"header\", \"false\") \\\n",
        "    .option(\"inferSchema\", \"true\") \\\n",
        "    .option(\"sep\", \",\") \\\n",
        "    .load(\"ngram.csv\")\n",
        "\n",
        "# Rename the columns\n",
        "df = df.withColumnRenamed(\"_c0\", \"Bigram\") \\\n",
        "        .withColumnRenamed(\"_c1\", \"Year\") \\\n",
        "        .withColumnRenamed(\"_c2\", \"Count\") \\\n",
        "        .withColumnRenamed(\"_c3\", \"Pages\") \\\n",
        "        .withColumnRenamed(\"_c4\", \"Books\")\n",
        "\n",
        "# Select only the desired columns\n",
        "df = df.select(\"Bigram\", \"Year\", \"Count\", \"Pages\", \"Books\")\n",
        "\n",
        "# show the first 20 rows of the DataFrame\n",
        "df.show(40)\n"
      ],
      "metadata": {
        "colab": {
          "base_uri": "https://localhost:8080/"
        },
        "id": "e7zwk2unJnQd",
        "outputId": "c3c6948e-e0ad-49ac-85d1-f826c1645799"
      },
      "execution_count": null,
      "outputs": [
        {
          "output_type": "stream",
          "name": "stdout",
          "text": [
            "+--------+----+-----+-----+-----+\n",
            "|  Bigram|Year|Count|Pages|Books|\n",
            "+--------+----+-----+-----+-----+\n",
            "|! $17.95|1985|    1|    1|    1|\n",
            "|! $17.95|1987|    1|    1|    1|\n",
            "|! $17.95|1990|    1|    1|    1|\n",
            "|! $17.95|1991|    1|    1|    1|\n",
            "|! $17.95|1992|    5|    5|    5|\n",
            "|! $17.95|1993|    2|    2|    2|\n",
            "|! $17.95|1995|    1|    1|    1|\n",
            "|! $17.95|1996|    4|    2|    2|\n",
            "|! $17.95|1997|    6|    5|    5|\n",
            "|! $17.95|1998|    4|    3|    3|\n",
            "|! $17.95|1999|   11|   10|   10|\n",
            "|! $17.95|2000|   11|    9|    9|\n",
            "|! $17.95|2001|    5|    4|    4|\n",
            "|! $17.95|2002|    5|    5|    5|\n",
            "|! $17.95|2003|    2|    2|    2|\n",
            "|! $17.95|2004|   14|   14|   14|\n",
            "|! $17.95|2005|   13|   13|   13|\n",
            "|! $17.95|2006|    5|    5|    5|\n",
            "|! $17.95|2007|    2|    2|    2|\n",
            "|! $17.95|2008|    2|    2|    2|\n",
            "|    ! 09|1780|    1|    1|    1|\n",
            "|    ! 09|1803|    1|    1|    1|\n",
            "|    ! 09|1806|    1|    1|    1|\n",
            "|    ! 09|1823|    1|    1|    1|\n",
            "|    ! 09|1824|    1|    1|    1|\n",
            "|    ! 09|1825|    1|    1|    1|\n",
            "|    ! 09|1829|    3|    3|    3|\n",
            "|    ! 09|1830|    2|    2|    2|\n",
            "|    ! 09|1831|    1|    1|    1|\n",
            "|    ! 09|1833|    1|    1|    1|\n",
            "|    ! 09|1834|    4|    4|    4|\n",
            "|    ! 09|1836|    1|    1|    1|\n",
            "|    ! 09|1839|    1|    1|    1|\n",
            "|    ! 09|1840|    1|    1|    1|\n",
            "|    ! 09|1841|    2|    2|    2|\n",
            "|    ! 09|1845|    1|    1|    1|\n",
            "|    ! 09|1847|    2|    2|    2|\n",
            "|    ! 09|1848|    1|    1|    1|\n",
            "|    ! 09|1856|    1|    1|    1|\n",
            "|    ! 09|1857|    2|    2|    2|\n",
            "+--------+----+-----+-----+-----+\n",
            "only showing top 40 rows\n",
            "\n"
          ]
        }
      ]
    },
    {
      "cell_type": "markdown",
      "source": [
        "**3.1 Retourner tous les bi-grammes dont le nombre Count est supérieur à cinq.**"
      ],
      "metadata": {
        "id": "7rsZyJdWNs1u"
      }
    },
    {
      "cell_type": "code",
      "source": [
        "df.createOrReplaceTempView(\"ngram\")\n",
        "\n",
        "# SQL\n",
        "result1 = spark.sql(\"Select * from ngram where Count > 5\")\n",
        "result1.show(40)"
      ],
      "metadata": {
        "colab": {
          "base_uri": "https://localhost:8080/"
        },
        "id": "0k4SsXe7MOJa",
        "outputId": "e6e53cee-dd53-4e20-b035-d1b979739aa3"
      },
      "execution_count": null,
      "outputs": [
        {
          "output_type": "stream",
          "name": "stdout",
          "text": [
            "+--------+----+-----+-----+-----+\n",
            "|  Bigram|Year|Count|Pages|Books|\n",
            "+--------+----+-----+-----+-----+\n",
            "|! $17.95|1997|    6|    5|    5|\n",
            "|! $17.95|1999|   11|   10|   10|\n",
            "|! $17.95|2000|   11|    9|    9|\n",
            "|! $17.95|2004|   14|   14|   14|\n",
            "|! $17.95|2005|   13|   13|   13|\n",
            "|    ! 09|1899|    6|    6|    5|\n",
            "|    ! 09|1916|    7|    7|    4|\n",
            "|    ! 09|1936|    6|    6|    6|\n",
            "|    ! 09|1997|    6|    5|    5|\n",
            "|    ! 09|1999|   11|   10|   10|\n",
            "|    ! 09|2000|   11|    9|    9|\n",
            "|    ! 09|2004|   14|   14|   14|\n",
            "|    ! 09|2005|   13|   13|   13|\n",
            "+--------+----+-----+-----+-----+\n",
            "\n"
          ]
        }
      ]
    },
    {
      "cell_type": "code",
      "source": [
        "#  API SparkSql\n",
        "df.filter(\"Count > 5\").select(\"Bigram\").show()"
      ],
      "metadata": {
        "id": "Av1CJUwAP9N8",
        "colab": {
          "base_uri": "https://localhost:8080/"
        },
        "outputId": "13a5cc70-9a52-472f-d68a-80392f0794db"
      },
      "execution_count": null,
      "outputs": [
        {
          "output_type": "stream",
          "name": "stdout",
          "text": [
            "+--------+\n",
            "|  Bigram|\n",
            "+--------+\n",
            "|! $17.95|\n",
            "|! $17.95|\n",
            "|! $17.95|\n",
            "|! $17.95|\n",
            "|! $17.95|\n",
            "|    ! 09|\n",
            "|    ! 09|\n",
            "|    ! 09|\n",
            "|    ! 09|\n",
            "|    ! 09|\n",
            "|    ! 09|\n",
            "|    ! 09|\n",
            "|    ! 09|\n",
            "+--------+\n",
            "\n"
          ]
        }
      ]
    },
    {
      "cell_type": "markdown",
      "source": [
        "**3.2) Retourner le nombre total de bi-grammes dans chaque année.**"
      ],
      "metadata": {
        "id": "Vt2MBBm2N5BP"
      }
    },
    {
      "cell_type": "code",
      "source": [
        "# SQL\n",
        "result2 = spark.sql(\"SELECT Year, COUNT(*) AS cnt FROM ngram GROUP BY Year \")\n",
        "result2.show()"
      ],
      "metadata": {
        "colab": {
          "base_uri": "https://localhost:8080/"
        },
        "id": "Ei90LcYGOF3V",
        "outputId": "799ff650-d6e6-4f01-b639-9a0ca725fc24"
      },
      "execution_count": null,
      "outputs": [
        {
          "output_type": "stream",
          "name": "stdout",
          "text": [
            "+----+---+\n",
            "|Year|cnt|\n",
            "+----+---+\n",
            "|1829|  1|\n",
            "|1990|  2|\n",
            "|1903|  1|\n",
            "|1884|  1|\n",
            "|1888|  1|\n",
            "|1924|  1|\n",
            "|2003|  2|\n",
            "|1823|  1|\n",
            "|2007|  2|\n",
            "|1869|  1|\n",
            "|1892|  1|\n",
            "|1889|  1|\n",
            "|1927|  1|\n",
            "|1866|  1|\n",
            "|1877|  1|\n",
            "|2006|  2|\n",
            "|1908|  1|\n",
            "|1925|  1|\n",
            "|1824|  1|\n",
            "|1848|  1|\n",
            "+----+---+\n",
            "only showing top 20 rows\n",
            "\n"
          ]
        }
      ]
    },
    {
      "cell_type": "code",
      "source": [
        "# SparkSQL\n",
        "df.groupBy(\"Year\").count().show()"
      ],
      "metadata": {
        "colab": {
          "base_uri": "https://localhost:8080/"
        },
        "id": "3SGHf3mORSlM",
        "outputId": "d37a8b06-0e23-415b-aa26-1ab946f79e62"
      },
      "execution_count": null,
      "outputs": [
        {
          "output_type": "stream",
          "name": "stdout",
          "text": [
            "+----+-----+\n",
            "|Year|count|\n",
            "+----+-----+\n",
            "|1829|    1|\n",
            "|1990|    2|\n",
            "|1903|    1|\n",
            "|1884|    1|\n",
            "|1888|    1|\n",
            "|1924|    1|\n",
            "|2003|    2|\n",
            "|1823|    1|\n",
            "|2007|    2|\n",
            "|1869|    1|\n",
            "|1892|    1|\n",
            "|1889|    1|\n",
            "|1927|    1|\n",
            "|1866|    1|\n",
            "|1877|    1|\n",
            "|2006|    2|\n",
            "|1908|    1|\n",
            "|1925|    1|\n",
            "|1824|    1|\n",
            "|1848|    1|\n",
            "+----+-----+\n",
            "only showing top 20 rows\n",
            "\n"
          ]
        }
      ]
    },
    {
      "cell_type": "markdown",
      "source": [
        "**3.3) Retourner les bi-grammes qui ont le plus grand nombre de count dans chaque\n",
        "année.**"
      ],
      "metadata": {
        "id": "tVA-V51lTG0Q"
      }
    },
    {
      "cell_type": "code",
      "source": [
        "# SQL\n",
        "result3 = spark.sql(\"\"\"\n",
        "  select Year,Bigram,Count from ngram as t1 where\n",
        "  count = (\n",
        "    select Max(Count) from ngram as t2 where\n",
        "    t1.Year == t2.Year\n",
        "  )\n",
        "\"\"\")\n",
        "\n",
        "# OR\n",
        "result3 = spark.sql(\"Select Bigram, Year, Max(Count) as maxCount from ngram group by Bigram,Year\")\n",
        "result3.show()"
      ],
      "metadata": {
        "colab": {
          "base_uri": "https://localhost:8080/"
        },
        "id": "HVPOyHkPTYhC",
        "outputId": "45650e55-06ff-4df7-c364-5ff86af1611f"
      },
      "execution_count": null,
      "outputs": [
        {
          "output_type": "stream",
          "name": "stdout",
          "text": [
            "+--------+----+--------+\n",
            "|  Bigram|Year|maxCount|\n",
            "+--------+----+--------+\n",
            "|    ! 09|1848|       1|\n",
            "|! $17.95|2002|       5|\n",
            "|    ! 09|1881|       3|\n",
            "|! $17.95|2007|       2|\n",
            "|    ! 09|1910|       3|\n",
            "|    ! 09|1825|       1|\n",
            "|! $17.95|1985|       1|\n",
            "|    ! 09|1780|       1|\n",
            "|    ! 09|1876|       2|\n",
            "|    ! 09|1888|       2|\n",
            "|! $17.95|1990|       1|\n",
            "|! $17.95|1993|       2|\n",
            "|    ! 09|1878|       2|\n",
            "|    ! 09|1996|       4|\n",
            "|    ! 09|2007|       2|\n",
            "|    ! 09|1857|       2|\n",
            "|    ! 09|1911|       1|\n",
            "|    ! 09|1998|       4|\n",
            "|    ! 09|1908|       2|\n",
            "|! $17.95|2003|       2|\n",
            "+--------+----+--------+\n",
            "only showing top 20 rows\n",
            "\n"
          ]
        }
      ]
    },
    {
      "cell_type": "code",
      "source": [
        "# SparkSQL\n",
        "\n",
        "reslut3=df.groupBy(\"Year\",\"Bigram\").max(\"Count\")\n",
        "result3.show()"
      ],
      "metadata": {
        "colab": {
          "base_uri": "https://localhost:8080/"
        },
        "id": "mSe3Av6WWd8R",
        "outputId": "e38ddecf-e215-43d0-fe42-a9248ac31715"
      },
      "execution_count": null,
      "outputs": [
        {
          "output_type": "stream",
          "name": "stdout",
          "text": [
            "+--------+----+--------+\n",
            "|  Bigram|Year|maxCount|\n",
            "+--------+----+--------+\n",
            "|    ! 09|1848|       1|\n",
            "|! $17.95|2002|       5|\n",
            "|    ! 09|1881|       3|\n",
            "|! $17.95|2007|       2|\n",
            "|    ! 09|1910|       3|\n",
            "|    ! 09|1825|       1|\n",
            "|! $17.95|1985|       1|\n",
            "|    ! 09|1780|       1|\n",
            "|    ! 09|1876|       2|\n",
            "|    ! 09|1888|       2|\n",
            "|! $17.95|1990|       1|\n",
            "|! $17.95|1993|       2|\n",
            "|    ! 09|1878|       2|\n",
            "|    ! 09|1996|       4|\n",
            "|    ! 09|2007|       2|\n",
            "|    ! 09|1857|       2|\n",
            "|    ! 09|1911|       1|\n",
            "|    ! 09|1998|       4|\n",
            "|    ! 09|1908|       2|\n",
            "|! $17.95|2003|       2|\n",
            "+--------+----+--------+\n",
            "only showing top 20 rows\n",
            "\n"
          ]
        }
      ]
    },
    {
      "cell_type": "markdown",
      "source": [
        "**3.4) Retourner tous les bi-grammes qui sont apparus dans 20 années différentes.**"
      ],
      "metadata": {
        "id": "6iNjMW9hZvI3"
      }
    },
    {
      "cell_type": "code",
      "source": [
        "# SQL\n",
        "result4 = spark.sql(\"\"\"\n",
        "  Select Bigram From ngram\n",
        "  Group by Bigram\n",
        "  Having Count(Distinct Year) = 20\n",
        "\"\"\")\n",
        "result4.show(10)"
      ],
      "metadata": {
        "colab": {
          "base_uri": "https://localhost:8080/"
        },
        "id": "JaCyp3oYb_B_",
        "outputId": "fa449d2a-72fc-410d-9ad4-94a596d4778b"
      },
      "execution_count": null,
      "outputs": [
        {
          "output_type": "stream",
          "name": "stdout",
          "text": [
            "+--------+\n",
            "|  Bigram|\n",
            "+--------+\n",
            "|! $17.95|\n",
            "+--------+\n",
            "\n"
          ]
        }
      ]
    },
    {
      "cell_type": "code",
      "source": [
        "# SparkSQL\n",
        "result = df.groupBy(\"Bigram\").agg(\n",
        "    countDistinct(\"Year\").alias(\"NumYears\")\n",
        ").filter(\"NumYears = 20\").select(\"Bigram\").show()"
      ],
      "metadata": {
        "colab": {
          "base_uri": "https://localhost:8080/"
        },
        "id": "BW4QHm0Xb_JY",
        "outputId": "1856f304-10e6-4fdf-fd4a-d20534a3b054"
      },
      "execution_count": null,
      "outputs": [
        {
          "output_type": "stream",
          "name": "stdout",
          "text": [
            "+--------+\n",
            "|  Bigram|\n",
            "+--------+\n",
            "|! $17.95|\n",
            "+--------+\n",
            "\n"
          ]
        }
      ]
    },
    {
      "cell_type": "markdown",
      "source": [
        "**3.5) Retourner tous les bi-grammes qui contiennent le caractère ‘!’ dans la première\n",
        "partie et le caractère ‘9’ dans la deuxième partie (les deux parties sont séparées par\n",
        "un espace).**"
      ],
      "metadata": {
        "id": "MksUjI03eUTo"
      }
    },
    {
      "cell_type": "code",
      "source": [
        "# SQL\n",
        "result5 = spark.sql(\"SELECT distinct Bigram FROM ngram WHERE Bigram LIKE '%!% %' AND Bigram LIKE '% %9%'\")\n",
        "result5.show(10)"
      ],
      "metadata": {
        "colab": {
          "base_uri": "https://localhost:8080/"
        },
        "id": "gztoMIGEeQ7m",
        "outputId": "1aed906d-89e0-4f97-c2bd-d1789946f5d0"
      },
      "execution_count": null,
      "outputs": [
        {
          "output_type": "stream",
          "name": "stdout",
          "text": [
            "+--------+\n",
            "|  Bigram|\n",
            "+--------+\n",
            "|    ! 09|\n",
            "|! $17.95|\n",
            "+--------+\n",
            "\n"
          ]
        }
      ]
    },
    {
      "cell_type": "code",
      "source": [
        "# SparkSql\n",
        "df.filter((col(\"Bigram\").like(\"%!% %\")) & (col(\"Bigram\").like(\"% %9%\"))).select(\"Bigram\").distinct().show()"
      ],
      "metadata": {
        "colab": {
          "base_uri": "https://localhost:8080/"
        },
        "id": "k8fRbsMIhHWy",
        "outputId": "2c0f157b-fb35-4f1e-b244-2cf42c1f8b84"
      },
      "execution_count": null,
      "outputs": [
        {
          "output_type": "stream",
          "name": "stdout",
          "text": [
            "+--------+\n",
            "|  Bigram|\n",
            "+--------+\n",
            "|    ! 09|\n",
            "|! $17.95|\n",
            "+--------+\n",
            "\n"
          ]
        }
      ]
    },
    {
      "cell_type": "markdown",
      "source": [
        "**3.6) Retourner les bi-grammes qui sont apparus dans toutes les années présentes\n",
        "dans les données.**"
      ],
      "metadata": {
        "id": "3JWqUFeWh_O7"
      }
    },
    {
      "cell_type": "code",
      "source": [
        "# SQL\n",
        "result6 = spark.sql(\"\"\"\n",
        "  select Bigram from ngram\n",
        "  group by Bigram\n",
        "  having count(distinct(Year)) = (select count(distinct(Year)) from ngram)\n",
        "\"\"\")\n",
        "result6.show(10)"
      ],
      "metadata": {
        "colab": {
          "base_uri": "https://localhost:8080/"
        },
        "id": "W3W3OEPah9f-",
        "outputId": "2e1460d9-a7d9-4557-bf8e-a9d1dc580c38"
      },
      "execution_count": null,
      "outputs": [
        {
          "output_type": "stream",
          "name": "stdout",
          "text": [
            "+------+\n",
            "|Bigram|\n",
            "+------+\n",
            "|  ! 09|\n",
            "+------+\n",
            "\n"
          ]
        }
      ]
    },
    {
      "cell_type": "code",
      "source": [
        "# SparkSql\n",
        "distinctYears =  df.select(\"Year\").distinct().count()\n",
        "df.groupBy(\"Bigram\").agg(countDistinct('Year').alias('yearCount')) \\\n",
        "                    .filter(col(\"yearCount\")==distinctYears).select(\"Bigram\").show(10)"
      ],
      "metadata": {
        "colab": {
          "base_uri": "https://localhost:8080/"
        },
        "id": "Pv1J1a8Sjvtk",
        "outputId": "7b5e35c7-ee2d-4629-8321-99fb3e4dd09b"
      },
      "execution_count": null,
      "outputs": [
        {
          "output_type": "stream",
          "name": "stdout",
          "text": [
            "+------+\n",
            "|Bigram|\n",
            "+------+\n",
            "|  ! 09|\n",
            "+------+\n",
            "\n"
          ]
        }
      ]
    },
    {
      "cell_type": "markdown",
      "source": [
        "**3.7) Retourner le nombre total de pages et de livres dans lesquels chaque bigramme apparaît pour chaque année disponible, trié par ordre alphabétique.**"
      ],
      "metadata": {
        "id": "-x5FpU_flSYl"
      }
    },
    {
      "cell_type": "code",
      "source": [
        "# Sql\n",
        "result7 = spark.sql(\"\"\"\n",
        "  select Year, Bigram, sum(Pages) as TotalPages, sum(Books) as TotalBooks from ngram\n",
        "  group by  Year, Bigram\n",
        "  order by Bigram ASC\n",
        "\"\"\")\n",
        "result7.show(10)"
      ],
      "metadata": {
        "colab": {
          "base_uri": "https://localhost:8080/"
        },
        "id": "l48BPzE3lRRI",
        "outputId": "77c16cad-2416-4234-b8c2-4b3b09e4081e"
      },
      "execution_count": null,
      "outputs": [
        {
          "output_type": "stream",
          "name": "stdout",
          "text": [
            "+----+--------+----------+----------+\n",
            "|Year|  Bigram|TotalPages|TotalBooks|\n",
            "+----+--------+----------+----------+\n",
            "|2002|! $17.95|         5|         5|\n",
            "|1993|! $17.95|         2|         2|\n",
            "|2006|! $17.95|         5|         5|\n",
            "|1985|! $17.95|         1|         1|\n",
            "|1996|! $17.95|         2|         2|\n",
            "|1999|! $17.95|        10|        10|\n",
            "|1995|! $17.95|         1|         1|\n",
            "|2007|! $17.95|         2|         2|\n",
            "|1991|! $17.95|         1|         1|\n",
            "|2000|! $17.95|         9|         9|\n",
            "+----+--------+----------+----------+\n",
            "only showing top 10 rows\n",
            "\n"
          ]
        }
      ]
    },
    {
      "cell_type": "code",
      "source": [
        "# SparkSql\n",
        "df.groupBy('Year','Bigram').agg(sum('Pages').alias('TotalPages'),sum('Books').alias('TotalBooks')) \\\n",
        " .orderBy('Bigram').show()"
      ],
      "metadata": {
        "colab": {
          "base_uri": "https://localhost:8080/"
        },
        "id": "RHb8rvIZrInw",
        "outputId": "407a9c51-5557-41b7-fdb5-3ca43059c60c"
      },
      "execution_count": null,
      "outputs": [
        {
          "output_type": "stream",
          "name": "stdout",
          "text": [
            "+----+--------+----------+----------+\n",
            "|Year|  Bigram|TotalPages|TotalBooks|\n",
            "+----+--------+----------+----------+\n",
            "|1999|! $17.95|        10|        10|\n",
            "|2002|! $17.95|         5|         5|\n",
            "|2006|! $17.95|         5|         5|\n",
            "|1997|! $17.95|         5|         5|\n",
            "|2007|! $17.95|         2|         2|\n",
            "|2008|! $17.95|         2|         2|\n",
            "|1985|! $17.95|         1|         1|\n",
            "|1996|! $17.95|         2|         2|\n",
            "|1995|! $17.95|         1|         1|\n",
            "|1991|! $17.95|         1|         1|\n",
            "|2000|! $17.95|         9|         9|\n",
            "|1993|! $17.95|         2|         2|\n",
            "|2005|! $17.95|        13|        13|\n",
            "|1992|! $17.95|         5|         5|\n",
            "|1987|! $17.95|         1|         1|\n",
            "|1990|! $17.95|         1|         1|\n",
            "|2004|! $17.95|        14|        14|\n",
            "|2003|! $17.95|         2|         2|\n",
            "|2001|! $17.95|         4|         4|\n",
            "|1998|! $17.95|         3|         3|\n",
            "+----+--------+----------+----------+\n",
            "only showing top 20 rows\n",
            "\n"
          ]
        }
      ]
    },
    {
      "cell_type": "markdown",
      "source": [
        "**3.8) Retourner le nombre total de bi-grammes différents dans chaque année, triés\n",
        "par ordre décroissant de l'année.**"
      ],
      "metadata": {
        "id": "Yw8lFpIgu3Pv"
      }
    },
    {
      "cell_type": "code",
      "source": [
        "# Sql\n",
        "result8 = spark.sql(\"\"\"\n",
        "SELECT Year, COUNT(DISTINCT Bigram) AS TotalBigrams\n",
        "FROM ngram\n",
        "GROUP BY Year\n",
        "ORDER BY Year DESC\n",
        "\"\"\")\n",
        "\n",
        "result8.show(10)"
      ],
      "metadata": {
        "colab": {
          "base_uri": "https://localhost:8080/"
        },
        "id": "6u2bv1rHu5MF",
        "outputId": "f69d26a8-6d01-4fd7-8095-0a7141f905fb"
      },
      "execution_count": null,
      "outputs": [
        {
          "output_type": "stream",
          "name": "stdout",
          "text": [
            "+----+------------+\n",
            "|Year|TotalBigrams|\n",
            "+----+------------+\n",
            "|2008|           2|\n",
            "|2007|           2|\n",
            "|2006|           2|\n",
            "|2005|           2|\n",
            "|2004|           2|\n",
            "|2003|           2|\n",
            "|2002|           2|\n",
            "|2001|           2|\n",
            "|2000|           2|\n",
            "|1999|           2|\n",
            "+----+------------+\n",
            "only showing top 10 rows\n",
            "\n"
          ]
        }
      ]
    },
    {
      "cell_type": "code",
      "source": [
        "# SparkSql\n",
        "df.groupBy(\"Year\").agg(countDistinct(\"Bigram\").alias(\"TotalBigrams\")).orderBy(\"Year\", ascending=False).show()"
      ],
      "metadata": {
        "colab": {
          "base_uri": "https://localhost:8080/"
        },
        "id": "JpyMeEkNxibq",
        "outputId": "5bf17982-700a-4db7-8a73-18d304bfc80b"
      },
      "execution_count": null,
      "outputs": [
        {
          "output_type": "stream",
          "name": "stdout",
          "text": [
            "+----+------------+\n",
            "|Year|TotalBigrams|\n",
            "+----+------------+\n",
            "|2008|           2|\n",
            "|2007|           2|\n",
            "|2006|           2|\n",
            "|2005|           2|\n",
            "|2004|           2|\n",
            "|2003|           2|\n",
            "|2002|           2|\n",
            "|2001|           2|\n",
            "|2000|           2|\n",
            "|1999|           2|\n",
            "|1998|           2|\n",
            "|1997|           2|\n",
            "|1996|           2|\n",
            "|1995|           2|\n",
            "|1993|           2|\n",
            "|1992|           2|\n",
            "|1991|           2|\n",
            "|1990|           2|\n",
            "|1987|           2|\n",
            "|1985|           2|\n",
            "+----+------------+\n",
            "only showing top 20 rows\n",
            "\n"
          ]
        }
      ]
    }
  ]
}